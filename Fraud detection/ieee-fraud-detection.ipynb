{
 "cells": [
  {
   "cell_type": "code",
   "execution_count": 1,
   "metadata": {},
   "outputs": [],
   "source": [
    "import pandas as pd"
   ]
  },
  {
   "cell_type": "code",
   "execution_count": 5,
   "metadata": {},
   "outputs": [],
   "source": [
    "traint = pd.read_csv(\"/Users/rohandeshmukh/Desktop/Rohan/Study/PProjects/Fraud detection/data/train_transaction.csv\")\n",
    "testt = pd.read_csv(\"/Users/rohandeshmukh/Desktop/Rohan/Study/PProjects/Fraud detection/data/test_transaction.csv\")\n",
    "\n",
    "traini = pd.read_csv(\"/Users/rohandeshmukh/Desktop/Rohan/Study/PProjects/Fraud detection/data/train_identity.csv\")\n",
    "testi = pd.read_csv(\"/Users/rohandeshmukh/Desktop/Rohan/Study/PProjects/Fraud detection/data/test_identity.csv\")"
   ]
  },
  {
   "cell_type": "code",
   "execution_count": null,
   "metadata": {},
   "outputs": [],
   "source": [
    "train = train_transaction.merge(traini, how='left', left_index=True, right_index=True)\n",
    "test = test_transaction.merge(testi, how='left', left_index=True, right_index=True)"
   ]
  },
  {
   "cell_type": "code",
   "execution_count": null,
   "metadata": {},
   "outputs": [],
   "source": [
    "traint.shape, testt.shape, traini.shape, testi.shape"
   ]
  }
 ],
 "metadata": {
  "kernelspec": {
   "display_name": "Python [conda env:creditcard] *",
   "language": "python",
   "name": "conda-env-creditcard-py"
  },
  "language_info": {
   "codemirror_mode": {
    "name": "ipython",
    "version": 3
   },
   "file_extension": ".py",
   "mimetype": "text/x-python",
   "name": "python",
   "nbconvert_exporter": "python",
   "pygments_lexer": "ipython3",
   "version": "3.7.3"
  }
 },
 "nbformat": 4,
 "nbformat_minor": 2
}
